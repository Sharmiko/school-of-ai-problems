{
 "cells": [
  {
   "cell_type": "code",
   "execution_count": 1,
   "metadata": {},
   "outputs": [],
   "source": [
    "%load_ext autoreload\n",
    "%autoreload 2\n",
    "%reload_ext autoreload\n",
    "%matplotlib inline"
   ]
  },
  {
   "cell_type": "markdown",
   "metadata": {},
   "source": [
    "# Author: Giorgi Sharmiashvili"
   ]
  },
  {
   "cell_type": "markdown",
   "metadata": {},
   "source": [
    "# Derivatives"
   ]
  },
  {
   "cell_type": "markdown",
   "metadata": {},
   "source": [
    "Prove that it has partial derivative but is not differentiable\n",
    "$$f(x,y) = \\begin{cases}x & \\text{if }y \\ne x^2 \\\\ 0 & \\text{if }y = x^2\\end{cases}$$"
   ]
  },
  {
   "cell_type": "markdown",
   "metadata": {},
   "source": [
    "- $f_x(0, 0) = 1$ \n",
    "    <br>$f_x(x, y) = f_x(x, 0) = x$\n",
    "    <br> Derivative with respect to x is 1.\n",
    "- $f_y(0,0) = 0$ \n",
    "    <br>SO partial derivatives of this function is not equal at the origin and  the function is not differentiable at this point."
   ]
  },
  {
   "cell_type": "markdown",
   "metadata": {},
   "source": [
    "-----------------------------------"
   ]
  },
  {
   "cell_type": "markdown",
   "metadata": {},
   "source": [
    "Prove that it has partial derivative but isn't differentiable\n",
    "$$f(x,y) = \\begin{cases}y^3/(x^2+y^2) & \\text{if }(x,y) \\ne (0,0) \\\\ 0 & \\text{if }(x,y) = (0,0)\\end{cases}$$"
   ]
  },
  {
   "cell_type": "markdown",
   "metadata": {},
   "source": [
    "- $\\frac 0{(x^2 + 0^2)} = 0$ \n",
    "    <br>so partial derivative exists and along x axis - $f_x(0,0) = 0$.\n",
    "- $\\frac {y^3} {(0^2 + y^2)} = y$ \n",
    "    <br> so partial derivative exists along y axis $f_y(0,0) = 1$. \n",
    "- Partial derivates of these functions are not equal so function cannot be differentiated at (0, 0).\n",
    "- $f(x,y) \\to g(r, \\theta)$ were $x = rcos(\\theta), y = rsin(\\theta)$. $$g(r,\\theta) = \\begin{cases}rsin^3(\\theta) & \\text{if }r \\ne 0 \\\\ 0 & \\text{if } r =0\\end{cases}$$"
   ]
  },
  {
   "cell_type": "markdown",
   "metadata": {},
   "source": [
    "---------------------------------------------------------"
   ]
  }
 ],
 "metadata": {
  "kernelspec": {
   "display_name": "Python 3",
   "language": "python",
   "name": "python3"
  },
  "language_info": {
   "codemirror_mode": {
    "name": "ipython",
    "version": 3
   },
   "file_extension": ".py",
   "mimetype": "text/x-python",
   "name": "python",
   "nbconvert_exporter": "python",
   "pygments_lexer": "ipython3",
   "version": "3.7.4"
  }
 },
 "nbformat": 4,
 "nbformat_minor": 4
}
