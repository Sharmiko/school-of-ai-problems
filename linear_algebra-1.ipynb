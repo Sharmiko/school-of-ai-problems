{
 "cells": [
  {
   "cell_type": "markdown",
   "metadata": {},
   "source": [
    "# Set theory basics"
   ]
  },
  {
   "cell_type": "markdown",
   "metadata": {},
   "source": [
    "Prove that $A \\subseteq A$"
   ]
  },
  {
   "cell_type": "markdown",
   "metadata": {},
   "source": [
    "- The proposition if $x \\in \\mathbb{A}$ then $x \\in \\mathbb{A}$ is always true. Thus, $A \\subseteq A$"
   ]
  },
  {
   "cell_type": "markdown",
   "metadata": {},
   "source": [
    "---------------------------------"
   ]
  },
  {
   "cell_type": "markdown",
   "metadata": {},
   "source": [
    "Prove that if $B \\subset A$ then $A \\cap B = B$"
   ]
  },
  {
   "cell_type": "markdown",
   "metadata": {},
   "source": [
    "- if $x \\in {A \\cap B}$ then $x \\in {B}$. So, $A \\cap B = B$."
   ]
  },
  {
   "cell_type": "markdown",
   "metadata": {},
   "source": [
    "---------------------------------"
   ]
  },
  {
   "cell_type": "markdown",
   "metadata": {},
   "source": [
    "Prove that $A \\cap B = B \\cap A$"
   ]
  },
  {
   "cell_type": "markdown",
   "metadata": {},
   "source": [
    "- if $x \\in \\mathbb{A \\cap B}$ then $x \\in \\mathbb{A}$ and $x \\in \\mathbb{B}$, this is same as $x \\in \\mathbb{B}$ and $x \\in \\mathbb{A}$. That is $x \\in \\mathbb{B \\cap A}$."
   ]
  },
  {
   "cell_type": "markdown",
   "metadata": {},
   "source": [
    "---------------------------------"
   ]
  },
  {
   "cell_type": "markdown",
   "metadata": {},
   "source": [
    "Prove that if $B \\subset A$ then $A \\cup B = A$"
   ]
  },
  {
   "cell_type": "markdown",
   "metadata": {},
   "source": [
    "- if $x \\in {A \\cup B}$ then $x \\in {A}$ or $x \\in {B}$. Since, ${B \\subset A}$ we have $x \\in {A}$. So, ${A \\cup B} = {A}$."
   ]
  },
  {
   "cell_type": "markdown",
   "metadata": {},
   "source": [
    "---------------------------------"
   ]
  },
  {
   "cell_type": "markdown",
   "metadata": {},
   "source": [
    "Prove that $A \\cup B = B \\cup A$"
   ]
  },
  {
   "cell_type": "markdown",
   "metadata": {},
   "source": [
    "- if $x \\in {A \\cup B}$ then $x \\in {A}$ or $x \\in {B}$. This is same as $x \\in {B}$ or $x \\in {A}$. So, $x \\in {B \\cup A}$."
   ]
  },
  {
   "cell_type": "markdown",
   "metadata": {},
   "source": [
    "---------------------------------"
   ]
  },
  {
   "cell_type": "markdown",
   "metadata": {},
   "source": [
    "Prove that \n",
    "- composition of injections is injection itself\n",
    "- composition of surjections is surjection itself\n",
    "- composition of bijections is bijection itself\n",
    "<br>\n",
    "or give a counterexamples"
   ]
  },
  {
   "cell_type": "markdown",
   "metadata": {},
   "source": [
    "- let ${f \\circ g(x) = f \\circ g(y)}$. ---> ${f(g(x)) = f(g(y))}$. --> ${g(x) = g(y)}$. --> x = y.\n",
    "- let ${f : A -> B}$ and ${g: B -> C}$. let $z \\in C$ Since g is surjective, there is a $y \\in B$ such that ${g(y) = z}$. Since ${f}$ is surjective, there is $x \\in {A}$ such that ${f(x) = y}$. Thus ${g(f(x)) = z}$. That shows ${g \\circ f}$ is surjective.\n",
    "- We say a function is bijective "
   ]
  },
  {
   "cell_type": "markdown",
   "metadata": {},
   "source": [
    "---------------------------------"
   ]
  },
  {
   "cell_type": "markdown",
   "metadata": {},
   "source": [
    "Prove that for each set $A$:\n",
    "- $A \\cong A$\n",
    "- if $B \\cong A$ then $B \\cong A$ for every pair of sets $A$ and $B$\n",
    "- if $A \\cong B$ and $B \\cong C$ then $A \\cong C$ for every triplet $A$, $B$ and $C$"
   ]
  },
  {
   "cell_type": "markdown",
   "metadata": {},
   "source": [
    "- TODO"
   ]
  },
  {
   "cell_type": "markdown",
   "metadata": {},
   "source": [
    "---------------------------------"
   ]
  },
  {
   "cell_type": "markdown",
   "metadata": {},
   "source": [
    "Prove that there exists a bijection between set of natural and even numbers"
   ]
  },
  {
   "cell_type": "markdown",
   "metadata": {},
   "source": [
    "- TODO"
   ]
  },
  {
   "cell_type": "markdown",
   "metadata": {},
   "source": [
    "---------------------------------"
   ]
  },
  {
   "cell_type": "markdown",
   "metadata": {},
   "source": [
    "Prove thet if we have a bijection between two finite sets than they have an equal number of elements"
   ]
  },
  {
   "cell_type": "markdown",
   "metadata": {},
   "source": [
    "- TODO"
   ]
  },
  {
   "cell_type": "markdown",
   "metadata": {},
   "source": [
    "---------------------------------"
   ]
  },
  {
   "cell_type": "markdown",
   "metadata": {},
   "source": [
    "Prove that $A \\times B \\cong B \\times A$"
   ]
  },
  {
   "cell_type": "markdown",
   "metadata": {},
   "source": [
    "- TODO"
   ]
  },
  {
   "cell_type": "markdown",
   "metadata": {},
   "source": [
    "---------------------------------"
   ]
  },
  {
   "cell_type": "markdown",
   "metadata": {},
   "source": [
    "Prove that:\n",
    "$$A \\cap (B \\cup C)=(A \\cap B) \\cup (A\\cap C)$$\n",
    "$$A \\cup (B \\cap C)=(A \\cup B) \\cap (A\\cup C)$$"
   ]
  },
  {
   "cell_type": "markdown",
   "metadata": {},
   "source": [
    "- Let $x \\in {A \\cap (B \\cup C)}$. Then $x \\in {A}$ and $x \\in{B \\cup C}$. So, $x \\in{A}$ and $x \\in $ ${B}$ or ${C}$. Thus, $x \\in$ ${A}$ and ${B}$ or $x \\in $ ${A}$ and ${C}$. So, $x \\in{A \\cap B}$ or $x \\in{A \\cap C}$, meaning that $x \\in{(A \\cap B) \\cup (A \\cap C}$.\n",
    "\n",
    "- Let $x \\in {A \\cup (B \\cap C)}$. Then $x \\in A$ or $x \\in {B \\cap C}$. So, $x \\in A$ or $x \\in$ ${B}$ and ${C}$. So, $x \\in$ ${A}$ or ${B}$ and $x \\in$ ${A}$ or ${C}$. Thus, $x \\in A \\cup B$ and $x \\in {A \\cup C}$. So, $x \\in (A \\cup B) \\cap (A \\cup B)$."
   ]
  },
  {
   "cell_type": "markdown",
   "metadata": {},
   "source": [
    "---------------------------------"
   ]
  },
  {
   "cell_type": "markdown",
   "metadata": {},
   "source": [
    "# Linear Algebra"
   ]
  },
  {
   "cell_type": "markdown",
   "metadata": {},
   "source": [
    "Prove that $a + X = X + a$ and $aX = Xa$ for every scalar $a \\in \\mathbb{R}$ and matrix $X \\in \\mathbb{R}^{n \\times m}$"
   ]
  },
  {
   "cell_type": "code",
   "execution_count": null,
   "metadata": {},
   "outputs": [],
   "source": []
  },
  {
   "cell_type": "markdown",
   "metadata": {},
   "source": [
    "Prove that $uv^{T} = vu^{T}$ for each $v, u \\in \\mathbb{R}^{n}$"
   ]
  },
  {
   "cell_type": "code",
   "execution_count": null,
   "metadata": {},
   "outputs": [],
   "source": []
  },
  {
   "cell_type": "markdown",
   "metadata": {},
   "source": [
    "Prove that $(AB)^{T} = B^{T}A^{T}$ for each pair of matrices $A, B \\in \\mathbb{R}^{n \\times m}$"
   ]
  },
  {
   "cell_type": "code",
   "execution_count": null,
   "metadata": {},
   "outputs": [],
   "source": []
  }
 ],
 "metadata": {
  "kernelspec": {
   "display_name": "Python 3",
   "language": "python",
   "name": "python3"
  },
  "language_info": {
   "codemirror_mode": {
    "name": "ipython",
    "version": 3
   },
   "file_extension": ".py",
   "mimetype": "text/x-python",
   "name": "python",
   "nbconvert_exporter": "python",
   "pygments_lexer": "ipython3",
   "version": "3.7.4"
  }
 },
 "nbformat": 4,
 "nbformat_minor": 4
}
