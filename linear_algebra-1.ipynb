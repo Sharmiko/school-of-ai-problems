{
 "cells": [
  {
   "cell_type": "markdown",
   "metadata": {},
   "source": [
    "# Author: <font color='yellow'>Giorgi Sharmiashvili</font>"
   ]
  },
  {
   "cell_type": "markdown",
   "metadata": {},
   "source": [
    "# Set theory basics"
   ]
  },
  {
   "cell_type": "markdown",
   "metadata": {},
   "source": [
    "Prove that $A \\subseteq A$"
   ]
  },
  {
   "cell_type": "markdown",
   "metadata": {},
   "source": [
    "- The proposition if $x \\in \\mathbb{A}$ then $x \\in \\mathbb{A}$ is always true. Thus, $A \\subseteq A$"
   ]
  },
  {
   "cell_type": "markdown",
   "metadata": {},
   "source": [
    "---------------------------------"
   ]
  },
  {
   "cell_type": "markdown",
   "metadata": {},
   "source": [
    "Empty set a $\\emptyset$ is a set without elements at all and which is contained in any set $\\emptyset \\subseteq A$ for any $A \\in Set$ so $\\emptyset$ is the \"smallest\" set (Proof it)"
   ]
  },
  {
   "cell_type": "markdown",
   "metadata": {},
   "source": [
    "- Empty set is set that does not contain any elements, it has zero elemetns. Empty set is subset of any set, because whatver set contains it will also contain set which contains no elements. So even empty set will be subset to itself."
   ]
  },
  {
   "cell_type": "markdown",
   "metadata": {},
   "source": [
    "---------------------------------"
   ]
  },
  {
   "cell_type": "markdown",
   "metadata": {},
   "source": [
    "Prove that if $B \\subset A$ then $A \\cap B = B$"
   ]
  },
  {
   "cell_type": "markdown",
   "metadata": {},
   "source": [
    "- if $x \\in {A \\cap B}$ then $x \\in {B}$. So, $A \\cap B = B$."
   ]
  },
  {
   "cell_type": "markdown",
   "metadata": {},
   "source": [
    "---------------------------------"
   ]
  },
  {
   "cell_type": "markdown",
   "metadata": {},
   "source": [
    "Prove that $A \\cap B = B \\cap A$"
   ]
  },
  {
   "cell_type": "markdown",
   "metadata": {},
   "source": [
    "- if $x \\in \\mathbb{A \\cap B}$ then $x \\in \\mathbb{A}$ and $x \\in \\mathbb{B}$, this is same as $x \\in \\mathbb{B}$ and $x \\in \\mathbb{A}$. That is $x \\in \\mathbb{B \\cap A}$."
   ]
  },
  {
   "cell_type": "markdown",
   "metadata": {},
   "source": [
    "---------------------------------"
   ]
  },
  {
   "cell_type": "markdown",
   "metadata": {},
   "source": [
    "Prove that if $B \\subset A$ then $A \\cup B = A$"
   ]
  },
  {
   "cell_type": "markdown",
   "metadata": {},
   "source": [
    "- if $x \\in {A \\cup B}$ then $x \\in {A}$ or $x \\in {B}$. Since, ${B \\subset A}$ we have $x \\in {A}$. So, ${A \\cup B} = {A}$."
   ]
  },
  {
   "cell_type": "markdown",
   "metadata": {},
   "source": [
    "---------------------------------"
   ]
  },
  {
   "cell_type": "markdown",
   "metadata": {},
   "source": [
    "Prove that $A \\cup B = B \\cup A$"
   ]
  },
  {
   "cell_type": "markdown",
   "metadata": {},
   "source": [
    "- if $x \\in {A \\cup B}$ then $x \\in {A}$ or $x \\in {B}$. This is same as $x \\in {B}$ or $x \\in {A}$. So, $x \\in {B \\cup A}$."
   ]
  },
  {
   "cell_type": "markdown",
   "metadata": {},
   "source": [
    "---------------------------------"
   ]
  },
  {
   "cell_type": "markdown",
   "metadata": {},
   "source": [
    "Prove that \n",
    "- composition of injections is injection itself\n",
    "- composition of surjections is surjection itself\n",
    "- composition of bijections is bijection itself\n",
    "<br>\n",
    "or give a counterexamples"
   ]
  },
  {
   "cell_type": "markdown",
   "metadata": {},
   "source": [
    "- let ${f \\circ g(x) = f \\circ g(y)}$. ---> ${f(g(x)) = f(g(y))}$. --> ${g(x) = g(y)}$. --> x = y.\n",
    "- let ${f : A -> B}$ and ${g: B -> C}$. let $z \\in C$ Since g is surjective, there is a $y \\in B$ such that ${g(y) = z}$. Since ${f}$ is surjective, there is $x \\in {A}$ such that ${f(x) = y}$. Thus ${g(f(x)) = z}$. That shows ${g \\circ f}$ is surjective.\n",
    "- We say a function ${f}$ is bijective if and only if ${f}$ is both injective and surjective. And following from above two proves we can say that composition of bijections is bijection itself."
   ]
  },
  {
   "cell_type": "markdown",
   "metadata": {},
   "source": [
    "---------------------------------"
   ]
  },
  {
   "cell_type": "markdown",
   "metadata": {},
   "source": [
    "Prove that for each set $A$:\n",
    "- $A \\cong A$\n",
    "- if $B \\cong A$ then $B \\cong A$ for every pair of sets $A$ and $B$\n",
    "- if $A \\cong B$ and $B \\cong C$ then $A \\cong C$ for every triplet $A$, $B$ and $C$"
   ]
  },
  {
   "cell_type": "markdown",
   "metadata": {},
   "source": [
    "- ${A \\to A}$ is a surjective and injective relation. For ${x \\in A}$ we have ${x \\in A}$ which is equal and It means it is surjective. For ${x}$ and ${y}$ ${\\in A}$ if they are equal to each other, meaning that it is injective. So, relationship between A and A is bijection, hence $A \\cong A$.\n",
    "- if $B \\cong A$  there is bijection between them. If these sets are bijective picking pair of sets from A and B will also have a bijective relationship.\n",
    "- if $A \\cong B$ and $B \\cong C$, which means A and B have bijection and B and C too. For each ${b \\in B}$ we have only one ${a \\in A}$. Same applies to B and C. If we reverse the order we will see that for every c we have one b and for every b we have one a, so there is bijection between A and C for every triplect A, B, C."
   ]
  },
  {
   "cell_type": "markdown",
   "metadata": {},
   "source": [
    "---------------------------------"
   ]
  },
  {
   "cell_type": "markdown",
   "metadata": {},
   "source": [
    "Prove that there exists a bijection between set of natural and even numbers"
   ]
  },
  {
   "cell_type": "markdown",
   "metadata": {},
   "source": [
    "- Let N be set of natural numbers and E set of even numbers. We have ${N \\to E}$. For each ${e \\in E}$ we have one ${n \\in N}$, so they are surjective and injective. So there is bijection between set of natural and even numbers."
   ]
  },
  {
   "cell_type": "markdown",
   "metadata": {},
   "source": [
    "---------------------------------"
   ]
  },
  {
   "cell_type": "markdown",
   "metadata": {},
   "source": [
    "Prove thet if we have a bijection between two finite sets than they have an equal number of elements"
   ]
  },
  {
   "cell_type": "markdown",
   "metadata": {},
   "source": [
    "- Let A and B be finite sets with $A \\cong B$. Let B be larger then A, so relationship won't be bijective so they must have equal number of elements."
   ]
  },
  {
   "cell_type": "markdown",
   "metadata": {},
   "source": [
    "---------------------------------"
   ]
  },
  {
   "cell_type": "markdown",
   "metadata": {},
   "source": [
    "Prove that $A \\times B \\cong B \\times A$"
   ]
  },
  {
   "cell_type": "markdown",
   "metadata": {},
   "source": [
    "- For ${A \\times B}$ we have ${(a, b)}$ for every ${a \\in A, b \\in B}$. Same applies to ${B \\times A}$. Number of elemtns will be same for each element in ${B \\times A}$, so there is surjectivity and injectivity. So, there is bijection between A and B."
   ]
  },
  {
   "cell_type": "markdown",
   "metadata": {},
   "source": [
    "---------------------------------"
   ]
  },
  {
   "cell_type": "markdown",
   "metadata": {},
   "source": [
    "Prove that:\n",
    "$$A \\cap (B \\cup C)=(A \\cap B) \\cup (A\\cap C)$$\n",
    "$$A \\cup (B \\cap C)=(A \\cup B) \\cap (A\\cup C)$$"
   ]
  },
  {
   "cell_type": "markdown",
   "metadata": {},
   "source": [
    "- Let $x \\in {A \\cap (B \\cup C)}$. Then $x \\in {A}$ and $x \\in{B \\cup C}$. So, $x \\in{A}$ and $x \\in $ ${B}$ or ${C}$. Thus, $x \\in$ ${A}$ and ${B}$ or $x \\in $ ${A}$ and ${C}$. So, $x \\in{A \\cap B}$ or $x \\in{A \\cap C}$, meaning that $x \\in{(A \\cap B) \\cup (A \\cap C}$.\n",
    "\n",
    "- Let $x \\in {A \\cup (B \\cap C)}$. Then $x \\in A$ or $x \\in {B \\cap C}$. So, $x \\in A$ or $x \\in$ ${B}$ and ${C}$. So, $x \\in$ ${A}$ or ${B}$ and $x \\in$ ${A}$ or ${C}$. Thus, $x \\in A \\cup B$ and $x \\in {A \\cup C}$. So, $x \\in (A \\cup B) \\cap (A \\cup B)$."
   ]
  },
  {
   "cell_type": "markdown",
   "metadata": {},
   "source": [
    "---------------------------------"
   ]
  },
  {
   "cell_type": "markdown",
   "metadata": {},
   "source": [
    "# Linear Algebra"
   ]
  },
  {
   "cell_type": "markdown",
   "metadata": {},
   "source": [
    "Prove that $a + X = X + a$ and $aX = Xa$ for every scalar $a \\in \\mathbb{R}$ and matrix $X \\in \\mathbb{R}^{n \\times m}$"
   ]
  },
  {
   "cell_type": "markdown",
   "metadata": {},
   "source": [
    "$\\begin{align}\n",
    "    X + a &= \\begin{pmatrix}\n",
    "        {x_{11} + a} & {x_{12} + a} & \\dots {x_{1m} + a} \\\\\n",
    "        {x_{21} + a} & {x_{22} + a} & \\dots {x_{2m} + a} \\\\\n",
    "        \\vdots & \\vdots & \\vdots \\\\\n",
    "        {x_{n1} + a} & {x_{n2} + a} & \\dots {x_{nm} + a} \\\\\n",
    "    \\end{pmatrix}\n",
    "\\end{align}$\n",
    "\n",
    "$\\begin{align}\n",
    "    a + X&= \\begin{pmatrix}\n",
    "        {a + x_{11}} & {a + x_{12}} & \\dots {a + x_{1m}} \\\\\n",
    "        {a + x_{21}} & {a + x_{22}} & \\dots {a + x_{2m}} \\\\\n",
    "        \\vdots & \\vdots & \\vdots \\\\\n",
    "        {a + x_{n1}} & {a + x_{n2}} & \\dots {a + x_{nm}} \\\\\n",
    "    \\end{pmatrix}\n",
    "\\end{align}$\n",
    "\n",
    "So, ${a + X = X + a}$\n",
    "\n",
    "$\\begin{align}\n",
    "    Xa &= \\begin{pmatrix}\n",
    "        {x_{11}a} & {x_{12}a} & \\dots {x_{1m}a} \\\\\n",
    "        {x_{21}a} & {x_{22}a} & \\dots {x_{2m}a} \\\\\n",
    "        \\vdots & \\vdots & \\vdots \\\\\n",
    "        {x_{n1}a} & {x_{n2}a} & \\dots {x_{nm}a} \\\\\n",
    "    \\end{pmatrix}\n",
    "\\end{align}$\n",
    "\n",
    "$\\begin{align}\n",
    "    aX &= \\begin{pmatrix}\n",
    "        {ax_{11}} & {ax_{12}} & \\dots {ax_{1m}} \\\\\n",
    "        {ax_{21}} & {ax_{22}} & \\dots {ax_{2m}} \\\\\n",
    "        \\vdots & \\vdots & \\vdots \\\\\n",
    "        {ax_{n1}} & {ax_{n2}} & \\dots {ax_{nm}} \\\\\n",
    "    \\end{pmatrix}\n",
    "\\end{align}$\n",
    "\n",
    "So, ${aX = Xa}$.   "
   ]
  },
  {
   "cell_type": "markdown",
   "metadata": {},
   "source": [
    "---------------------------------"
   ]
  },
  {
   "cell_type": "markdown",
   "metadata": {},
   "source": [
    "Prove that $uv^{T} = vu^{T}$ for each $v, u \\in \\mathbb{R}^{n}$"
   ]
  },
  {
   "cell_type": "markdown",
   "metadata": {},
   "source": [
    "$v^{T}$\n",
    "= $\\begin{align}\n",
    " \\begin{pmatrix}\n",
    "        {v_{1}} \\\\\n",
    "        \\vdots \\\\\n",
    "        {v_{n}}\n",
    "    \\end{pmatrix}\n",
    "\\end{align}$\n",
    "$u$ = $\\begin{align}\n",
    " \\begin{pmatrix}\n",
    "        {u_{1}}& \\dots {u_{n}} \\\\\n",
    "    \\end{pmatrix}\n",
    "\\end{align}$\n",
    "\n",
    "$v^{T}u$ = \n",
    "$\\begin{align}\n",
    " \\begin{pmatrix}\n",
    "        {v_{1}u_{1}}& \\dots {v_{n}u_{n}} \\\\\n",
    "    \\end{pmatrix}\n",
    "\\end{align}$\n",
    "\n",
    "$v$ = $\\begin{align}\n",
    " \\begin{pmatrix}\n",
    "        {u_{1}}& \\dots {u_{n}} \\\\\n",
    "    \\end{pmatrix}\n",
    "\\end{align}$\n",
    "$u^{T}$ = \n",
    " $\\begin{align}\n",
    " \\begin{pmatrix}\n",
    "        {u_{1}} \\\\\n",
    "        \\vdots \\\\\n",
    "        {u_{n}}\n",
    "    \\end{pmatrix}\n",
    "\\end{align}$\n",
    "\n",
    "and $vu^{T}$ = \n",
    "$\\begin{align}\n",
    " \\begin{pmatrix}\n",
    "        {v_{1}u_{1}}& \\dots {v_{n}u_{n}} \\\\\n",
    "    \\end{pmatrix}\n",
    "\\end{align}$\n",
    "\n",
    "So, $v^{T}u = vu^{T}$"
   ]
  },
  {
   "cell_type": "markdown",
   "metadata": {},
   "source": [
    "---------------------------------"
   ]
  },
  {
   "cell_type": "markdown",
   "metadata": {},
   "source": [
    "Prove that $(AB)^{T} = B^{T}A^{T}$ for each pair of matrices $A, B \\in \\mathbb{R}^{n \\times m}$"
   ]
  },
  {
   "cell_type": "markdown",
   "metadata": {},
   "source": [
    "- $(AB)^T_{i,j} = \\sum_{k=1}^{n} a_{j, k} b_{k,i} = AB_{j,i}$\n",
    "\n",
    "    $(B^{T}A^{T})_{i,j} = \\sum_{k=1}^{n} B^{T}_{i, k} A^{T}_{k,j} = \\sum_{k=1}^{n}b_{k,i} a_{j, k}$.\n",
    "\n",
    "    So, $(AB)^T = B^T A^T$"
   ]
  },
  {
   "cell_type": "markdown",
   "metadata": {},
   "source": [
    "---------------------------------"
   ]
  }
 ],
 "metadata": {
  "kernelspec": {
   "display_name": "Python 3",
   "language": "python",
   "name": "python3"
  },
  "language_info": {
   "codemirror_mode": {
    "name": "ipython",
    "version": 3
   },
   "file_extension": ".py",
   "mimetype": "text/x-python",
   "name": "python",
   "nbconvert_exporter": "python",
   "pygments_lexer": "ipython3",
   "version": "3.7.4"
  }
 },
 "nbformat": 4,
 "nbformat_minor": 4
}
