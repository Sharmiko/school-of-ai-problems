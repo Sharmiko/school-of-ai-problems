{
 "cells": [
  {
   "cell_type": "markdown",
   "metadata": {},
   "source": [
    "# Metric spaces"
   ]
  },
  {
   "cell_type": "markdown",
   "metadata": {},
   "source": [
    "#### Prove that:\n",
    "For every metric space (X, d):\n",
    "- For eny $\\mathcal{U} = \\{U | U$ is open in $(X, d)\\}$ holds $\\bigcup_{U \\in \\mathcal{U}} U$ is open in $(X, d)$\n",
    "- For eny two $U, V \\subset X$ open in $(X, d)$ holds: $U \\cap V$ is open in $(X, d)$\n",
    "- $X$ is open in $(X, d)$\n",
    "- $\\emptyset$ is open in $(X, d)$"
   ]
  },
  {
   "cell_type": "markdown",
   "metadata": {},
   "source": [
    "- For every elemetn U there should be ${a > 0}$ with ${(x - a, x + a) \\in U.}$ There for $\\bigcup_{U \\in \\mathcal{U}} U$ is open in (X, d)\n",
    "- U and V which are open in (X, d) will have their own epsilons. Intersection of this sets will be elements $\\epsilon = max(\\epsilon_{1}, \\epsilon_{2})$. So, ${U \\cap V}$ will be open in ${(X, d)}$\n",
    "- By definition, any ball is subset of X, so X will be open in (X, d)\n",
    "- For all ${x \\in \\emptyset}$ there is ${a > 0}$ with ${x - a, x + a) \\in \\emptyset}$. So, ${\\emptyset}$ is open in (X, d)"
   ]
  },
  {
   "cell_type": "markdown",
   "metadata": {},
   "source": [
    "--------------------------------"
   ]
  },
  {
   "cell_type": "markdown",
   "metadata": {},
   "source": [
    "#### Prove that:\n",
    "- For eny finity set $(U)_{i=1}^{n}$ of open sets in $(X, d)$, $\\bigcap_{i=1}^{n}U$ is open in $(X, d)$"
   ]
  },
  {
   "cell_type": "markdown",
   "metadata": {},
   "source": [
    "- Let $U_{i}$ be an open set. For every $U_{i}$ we have ${\\epsilon_{i}}$. So $\\bigcap_{i=1}^{n}U$ is open in $(X, d)$"
   ]
  },
  {
   "cell_type": "markdown",
   "metadata": {},
   "source": [
    "------------------------------------------"
   ]
  },
  {
   "cell_type": "markdown",
   "metadata": {},
   "source": [
    "#### Prove that for set $U \\subset X$ is open if and only if for each point $x \\in U$ there exists the open neighbourhood $V$ of $x$ such that $V \\subset U$"
   ]
  },
  {
   "cell_type": "markdown",
   "metadata": {},
   "source": [
    "- Suppose that for ${x \\in U}$ there is not open neighbourhood V of x such that ${V \\in U}$. So, for some ${x \\in U}$ we have closed neighbourhood, which is impossible. Hence ${U \\in X}$ is open."
   ]
  },
  {
   "cell_type": "markdown",
   "metadata": {},
   "source": [
    "----------------------------------"
   ]
  },
  {
   "cell_type": "markdown",
   "metadata": {},
   "source": [
    "#### Prove that, closed ball is closed subset in $(X, d)$\n"
   ]
  },
  {
   "cell_type": "markdown",
   "metadata": {},
   "source": [
    "- Closed subset is complement of open set. Suppose we have an\n",
    "open ball with center y. We can write that ${d(y, x_{i}) > r.}$ Lets denote ${d(y, x_{i}) -r}$ by ${k}$. Let, d(y, m) is contained in X\\S(${x_{i}, d)}$. So, we closed ball is closed subset in (X, d)."
   ]
  },
  {
   "cell_type": "markdown",
   "metadata": {},
   "source": [
    "--------------------------"
   ]
  },
  {
   "cell_type": "markdown",
   "metadata": {},
   "source": [
    "#### Prove that\n",
    "For every metric space (X, d):\n",
    "- For eny $\\mathcal{F} = \\{F | F$ is closed in $(X, d)\\}$ holds $\\bigcap_{F \\in \\mathcal{F}} F$ is closed in $(X, d)$\n",
    "- For eny two $F_1, F_2 \\subset X$ closed in $(X, d)$ holds: $F_1 \\cup F_2$ is closed in $(X, d)$\n",
    "- $X$ is closed in $(X, d)$\n",
    "- $\\emptyset$ is closed in $(X, d)$"
   ]
  },
  {
   "cell_type": "markdown",
   "metadata": {},
   "source": [
    "- Let E = S\\ $\\bigcap_{F \\in \\mathcal{F}} F$ then E will be equal to $\\bigcup_{F \\in \\mathcal{F}}$S\\F. $\\bigcup_{F \\in \\mathcal{F}}$ S\\F  is open set, so $\\bigcup_{F \\in \\mathcal{F}}$ S\\F = S\\ $\\bigcap_{F \\in \\mathcal{F}} F$ and they are open. Hence, $\\bigcap_{F \\in \\mathcal{F}} F$ will be closed.\n",
    "- S \\ ($F_{1} \\cup F_{2})$ = S \\ $F_{1} \\cap$ S \\ $F_{2}$. We know that S \\ $F_{1}$ and S \\ $F_{2}$ are open sets, So  S \\ $F_{1} \\cap$ S \\ $F_{2}$ is open set and S \\ ($F_{1} \\cup F_{2})$ is also open which means that $F_{1} \\cup F_{2}$ is closed.\n",
    "- Using proof above we know that $\\emptyset$ is open set. It's compelement X \\ $\\emptyset$ is X. So X is closed set.\n",
    "- Using above proof we know that X is open. So, X \\ X = $\\emptyset$ and $\\emptyset$ will be closed set."
   ]
  },
  {
   "cell_type": "markdown",
   "metadata": {},
   "source": [
    "------------------------"
   ]
  },
  {
   "cell_type": "markdown",
   "metadata": {},
   "source": [
    "#### Prove that:\n",
    "- For any finity set $(F)_{i=1}^{n}$ of closed sets in $(X, d)$, $\\bigcup_{i=1}^{n}F$ is closed in $(X, d)$"
   ]
  },
  {
   "cell_type": "markdown",
   "metadata": {},
   "source": [
    "Using the definition of close set S \\ (S \\ $\\bigcup_{i=1}^{n}F$) will be closed. S \\ (S \\ $\\bigcup_{i=1}^{n}F$) = $\\bigcup_{i=1}^{n}F$,so $\\bigcup_{i=1}^{n}F$ is closed set.$"
   ]
  },
  {
   "cell_type": "markdown",
   "metadata": {},
   "source": [
    "----------------------------------"
   ]
  },
  {
   "cell_type": "markdown",
   "metadata": {},
   "source": [
    "#### Prove that, if $F \\subset X$ is closed then $X - F$ is open in $(X, d)$ "
   ]
  },
  {
   "cell_type": "markdown",
   "metadata": {},
   "source": [
    "- Using the definiton of close set, if $F \\in X$ is closed in (X, d) that means that it's complement X - F will be open set in (X, d)"
   ]
  },
  {
   "cell_type": "markdown",
   "metadata": {},
   "source": [
    "----------------------------------"
   ]
  },
  {
   "cell_type": "markdown",
   "metadata": {},
   "source": [
    "# Metrics in Euclidean spaces"
   ]
  },
  {
   "cell_type": "markdown",
   "metadata": {},
   "source": [
    "Prove that:\n",
    "- for every $u, v \\in \\mathbb{R}^{n}$: $d(u, v) \\geq 0$\n",
    "- for every $v \\in \\mathbb{R}^{n}$: $d(v, v) = 0$\n",
    "- for every $u, v \\in \\mathbb{R}^{n}$: $d(u, v) = d(v, u)$ (symmetry)\n",
    "- for every $u, v, w \\in \\mathbb{R}^{n}$: $d(u, w) \\leq d(v, u) + d(v, w)$ (triangle inequality)"
   ]
  },
  {
   "cell_type": "markdown",
   "metadata": {},
   "source": [
    "- u,v vectors are in $R^{n}$. We can define distance as $d(u,v) = \\sqrt{\\sum_{i=1}^{n}(u_{i} - v_{i})^2}$. So, $(u_{i} - v_{i})^2$ must positive. So their sum and square root will also be positive. Therefore $d(u,v) \\geq 0$ \n",
    "- For every $v \\in \\mathbb{R}^{n}$: $d(v) = 0$ because $(v_{i} - v_{i})^2$ is equal to 0. Sum of zeros is aqual to zero. Also, root from zero is zero. So, $v \\in \\mathbb{R}^{n}$: $d(v, v) = 0$\n",
    "- For every $u, v \\in \\mathbb{R}^{n}$: $d(u, v) = d(v, u)$ we have $(u_{i} - v_{i})^2 = (v_{i} - u_{i})^2$. Using proof above we can conclude that $u, v \\in \\mathbb{R}^{n}$: $d(u, v) = d(v, u)$.\n",
    "- For every $u, v, w \\in \\mathbb{R}^{n}$, we have $d(u,w)^2 = \\sum_{i=1}^{n}(u_{i} - w_{i})^2$ =<br>$\\sum_{i=1}^{n}((u_{i} - v_{i}) - (w_{i} - v_{i}))^2$ = \n",
    "$(d(u,v) + d(w,v))^2$. <br>Therefore $d(u,w) \\leq d(u,v) + d(w, v)$."
   ]
  },
  {
   "cell_type": "markdown",
   "metadata": {},
   "source": [
    "------------------------------------"
   ]
  },
  {
   "cell_type": "markdown",
   "metadata": {},
   "source": [
    "Prove the same properties hold for $d(u, v) = ||u-v||_1$ ($||u-v||_1 = \\sum_{i = 1}^{n}|u_i - v_i|$)"
   ]
  },
  {
   "cell_type": "markdown",
   "metadata": {},
   "source": [
    "- $d(u,v) = \\sum_{i = 1}^{n}|u_i - v_i|$. $|u_i - v_i|$ is always positive, So $d(u,v) \\geq 0$ \n",
    "- $v \\in R^{n}: d(v,v) = 0$ we have $|v_i - v_i|$ = 0 and $\\sum_{i = 1}^{n}|v_i - v_i|$. \n",
    "- $u,v \\in R^{n}: d(u,v) = d(v,u)$ we have $|v_{i} - u_{i}| = |u_{i} - v_{i}|$ and $\\sum_{i=1}^{n}|v_{i} - u_{i}| = \\sum_{i=1}^{n}|u_{i} - v_{i}|$.\n",
    "- $u,v,w \\in R^{n}$ and $d(u,w) = \\sum_{i = 1}^{n}|u_i "
   ]
  },
  {
   "cell_type": "markdown",
   "metadata": {},
   "source": [
    "---------------------------------------"
   ]
  },
  {
   "cell_type": "markdown",
   "metadata": {},
   "source": [
    "## Sequences and limits"
   ]
  },
  {
   "cell_type": "markdown",
   "metadata": {},
   "source": [
    "#### Prove that $x = \\lim_{n\\to\\infty}{x_n}$ in $(X, d)$ if and only if (iff) for every $r \\in \\mathbb{R}$ there exists $n_0 \\in \\mathbb{N}$ such that: $x_i \\in B(x, r)$ for every $i \\gt n_0$"
   ]
  },
  {
   "cell_type": "markdown",
   "metadata": {},
   "source": [
    "- If $x = \\lim_{n\\to\\infty}{x_n}$ in $(X, d)$ we will have $(x_i)_{i=1}^{\\infty}$ which is infinite and $x \\in X$. $x = \\lim_{n\\to\\infty}{x_n}$ in $(X, d)$ is for every open set $U \\in X$ with $x \\in U$ so there should be $n_0 \\in \\mathbb{R}$ with $x_i \\in U$ for every $i \\gt n_0$. $B(x,r)$ is an open set which contains $x \\in B(x,r)$. So $n_{0} \\in N \\in R$ with $i > n_0$. "
   ]
  },
  {
   "cell_type": "markdown",
   "metadata": {},
   "source": [
    "---------------------------------------"
   ]
  },
  {
   "cell_type": "markdown",
   "metadata": {},
   "source": [
    "#### Prove that if $x = \\lim_{n\\to\\infty}{x_n}$ and $x \\notin \\{-\\infty, \\infty\\}$ then $(x_i)_{i=1}^{\\infty} = (x_1, x_2, \\dots, x_n)$ is a Cauchy sequence\n",
    "<br>\n",
    "For closed set $F \\subset \\mathbb{R}^n$ and convergent sequence $(x_i)_{i=1}^{\\infty} = (x_1, x_2, \\dots, x_n)$ such that there exists $n_0 \\in \\mathbb{N}$ such that $x_i \\in F$ for each $i \\gt n_0$ then: $\\lim_{n\\to\\infty}{x_n} \\in F$"
   ]
  },
  {
   "cell_type": "markdown",
   "metadata": {},
   "source": [
    "--------------------------------"
   ]
  },
  {
   "cell_type": "markdown",
   "metadata": {},
   "source": [
    "#### Prove that if $F$ is open from previous example, statement does not hold. "
   ]
  },
  {
   "cell_type": "markdown",
   "metadata": {},
   "source": [
    "- If $F \\in R^n$ is open set then we will have $x,y \\in F$ and d(x, y) < $\\epsilon$. Which mean that we will have $n_0$ \\in $N$ and $d(x_{i}, \\lim_{n\\to\\infty}{x_n})$ < $\\epsilon$ which is against the definiton"
   ]
  },
  {
   "cell_type": "markdown",
   "metadata": {},
   "source": [
    "-------------------------------------------------"
   ]
  },
  {
   "cell_type": "markdown",
   "metadata": {},
   "source": [
    "## Continuous functions "
   ]
  },
  {
   "cell_type": "markdown",
   "metadata": {},
   "source": [
    "#### Prove that function is continuous in $c$ if for eny sequence $(x_n)_{n=1}^{\\infty} \\subset X$ such that $\\lim_{n \\to \\infty}x_n = c$ we have $\\lim_{n \\to \\infty}f(x_n) = f(c)$"
   ]
  },
  {
   "cell_type": "markdown",
   "metadata": {},
   "source": [
    "- If $(x_n)_{n=1}^{\\infty} \\subset X$ and  $\\lim_{n \\to \\infty}x_n = c$ and $\\lim_{n \\to \\infty}f(x_n) = f(c)$. We will have $c \\in X$ for which $\\lim_{n \\to \\infty}f(x_n) = f(c)$. So,  $f:(X, d_X) \\to (Y, d_Y)$ is called continuous in $c \\in X$."
   ]
  },
  {
   "cell_type": "markdown",
   "metadata": {},
   "source": [
    "-------------------------------"
   ]
  },
  {
   "cell_type": "markdown",
   "metadata": {},
   "source": [
    "#### Prove that function is continuous if for every open set $V \\subset Y$ the $f^{-1}(V)$ is open in $X$"
   ]
  },
  {
   "cell_type": "markdown",
   "metadata": {},
   "source": [
    "- TODO"
   ]
  },
  {
   "cell_type": "markdown",
   "metadata": {},
   "source": [
    "------------------------------------"
   ]
  },
  {
   "cell_type": "markdown",
   "metadata": {},
   "source": [
    "#### Prove that function is continuous if for every closed set $F \\subset Y$ the $f^{-1}(F)$ is open in $X$"
   ]
  },
  {
   "cell_type": "markdown",
   "metadata": {},
   "source": [
    "- TODO"
   ]
  },
  {
   "cell_type": "markdown",
   "metadata": {},
   "source": [
    "------------------------------------"
   ]
  },
  {
   "cell_type": "markdown",
   "metadata": {},
   "source": [
    "#### Prove that any composition of continous functions is continous"
   ]
  },
  {
   "cell_type": "markdown",
   "metadata": {},
   "source": [
    "- Let f and g be continuous functions. Because f is continuous at g(a),we will have $c \\gt 0$ and $r_i$ such that $|g(x)−g(a)| \\lt r_1$ -> $|f(g(x))−f(g(a))| \\lt c$. Because g is continuous at a, we have r $|x−a| \\lt r$ -> $|g(x)−g(a)| \\lt r_1$.\n",
    "$|x−a|<r \\to |g(x)−g(a)| \\lt r_1 \\to |f(g(x))−f(g(a))| \\lt c$.$ So, composition of two continuous functions is also continuous."
   ]
  },
  {
   "cell_type": "markdown",
   "metadata": {},
   "source": [
    "----------------------------------------"
   ]
  }
 ],
 "metadata": {
  "kernelspec": {
   "display_name": "Python 3",
   "language": "python",
   "name": "python3"
  },
  "language_info": {
   "codemirror_mode": {
    "name": "ipython",
    "version": 3
   },
   "file_extension": ".py",
   "mimetype": "text/x-python",
   "name": "python",
   "nbconvert_exporter": "python",
   "pygments_lexer": "ipython3",
   "version": "3.7.4"
  }
 },
 "nbformat": 4,
 "nbformat_minor": 4
}
