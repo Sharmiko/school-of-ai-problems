{
 "cells": [
  {
   "cell_type": "code",
   "execution_count": 1,
   "metadata": {},
   "outputs": [],
   "source": [
    "import torch"
   ]
  },
  {
   "cell_type": "code",
   "execution_count": 2,
   "metadata": {},
   "outputs": [],
   "source": [
    "# Define sigmoid function\n",
    "def sigmoid(X):\n",
    "    return 1 / (1 + torch.exp(-X))"
   ]
  },
  {
   "cell_type": "code",
   "execution_count": 3,
   "metadata": {},
   "outputs": [],
   "source": [
    "# Define AND Gate\n",
    "def AND(X):\n",
    "    # Define bias and weights for the network\n",
    "    bias = torch.Tensor([-30])\n",
    "    weights = torch.Tensor([20, 20])\n",
    "    return torch.round(sigmoid(X @ weights + bias))"
   ]
  },
  {
   "cell_type": "code",
   "execution_count": 4,
   "metadata": {},
   "outputs": [],
   "source": [
    "# Define OR Gate\n",
    "def OR(X):\n",
    "    # Define bias and weights for the network\n",
    "    bias = torch.Tensor([-10])\n",
    "    weights = torch.Tensor([20, 20])\n",
    "    return torch.round(sigmoid(X @ weights + bias))"
   ]
  },
  {
   "cell_type": "code",
   "execution_count": 5,
   "metadata": {},
   "outputs": [],
   "source": [
    "# Define Inverse function\n",
    "def INV(X):\n",
    "    bias = torch.Tensor([10])\n",
    "    weights = torch.Tensor([-20])\n",
    "    return torch.round(sigmoid(X @ weights + bias))"
   ]
  },
  {
   "cell_type": "code",
   "execution_count": 6,
   "metadata": {},
   "outputs": [],
   "source": [
    "# Define XOR Gate\n",
    "def XOR(X):\n",
    "    # Compute AND and invert it\n",
    "    X_AND = AND(X)\n",
    "    X_AND_INV = torch.Tensor([ [INV(x.reshape(-1, 1)) for x in X_AND] ])\n",
    "    \n",
    "    # Comput OR\n",
    "    X_OR = OR(X)\n",
    "    \n",
    "    # Compute XOR -> AND(X_OR, X_AND_INV)\n",
    "    X_AND_INV = X_AND_INV.reshape(-1) # flatten tensor\n",
    "    combined_X = torch.cat((X_AND_INV, X_OR)) # concatenate tensors\n",
    "    XOR = AND(combined_X) # compute XOR\n",
    "    \n",
    "    return XOR"
   ]
  },
  {
   "cell_type": "code",
   "execution_count": 7,
   "metadata": {},
   "outputs": [],
   "source": [
    "X = torch.Tensor([[0, 0],\n",
    "                 [1, 0],\n",
    "                 [0, 1],\n",
    "                 [1, 1]])"
   ]
  },
  {
   "cell_type": "code",
   "execution_count": 8,
   "metadata": {},
   "outputs": [
    {
     "name": "stdout",
     "output_type": "stream",
     "text": [
      "X\t\t\tXOR\n",
      "tensor([0., 0.])\ttensor([0.])\n",
      "tensor([1., 0.])\ttensor([1.])\n",
      "tensor([0., 1.])\ttensor([1.])\n",
      "tensor([1., 1.])\ttensor([0.])\n"
     ]
    }
   ],
   "source": [
    "print(\"X\\t\\t\\tXOR\")\n",
    "for x in X:\n",
    "    print(\"{}\\t{}\".format(x, XOR(x)))"
   ]
  },
  {
   "cell_type": "code",
   "execution_count": null,
   "metadata": {},
   "outputs": [],
   "source": []
  }
 ],
 "metadata": {
  "kernelspec": {
   "display_name": "Python 3",
   "language": "python",
   "name": "python3"
  },
  "language_info": {
   "codemirror_mode": {
    "name": "ipython",
    "version": 3
   },
   "file_extension": ".py",
   "mimetype": "text/x-python",
   "name": "python",
   "nbconvert_exporter": "python",
   "pygments_lexer": "ipython3",
   "version": "3.7.4"
  }
 },
 "nbformat": 4,
 "nbformat_minor": 4
}
